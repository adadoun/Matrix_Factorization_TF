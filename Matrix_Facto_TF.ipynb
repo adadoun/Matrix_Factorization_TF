{
 "cells": [
  {
   "cell_type": "markdown",
   "metadata": {},
   "source": [
    "The purpose of this notebook is to implement the matrix factorization model : \n",
    "    https://datajobs.com/data-science-repo/Recommender-Systems-%5BNetflix%5D.pdf"
   ]
  },
  {
   "cell_type": "markdown",
   "metadata": {},
   "source": [
    "## Import all the needed packages"
   ]
  },
  {
   "cell_type": "code",
   "execution_count": 31,
   "metadata": {},
   "outputs": [],
   "source": [
    "import tensorflow as tf\n",
    "import pandas as pd\n",
    "import numpy as np\n",
    "from sklearn.cross_validation import train_test_split\n",
    "from sklearn.utils import shuffle\n",
    "import matplotlib.pyplot as plt"
   ]
  },
  {
   "cell_type": "markdown",
   "metadata": {},
   "source": [
    "## Download the data"
   ]
  },
  {
   "cell_type": "code",
   "execution_count": 110,
   "metadata": {},
   "outputs": [],
   "source": [
    "## Data from Movielens100k \n",
    "r_cols = ['user_id', 'movie_id', 'rating', 'unix_timestamp']\n",
    "ratings = pd.read_csv('ml-100k/u.data', sep='\\t', names=r_cols,\n",
    "                      encoding='latin-1')"
   ]
  },
  {
   "cell_type": "code",
   "execution_count": 3,
   "metadata": {},
   "outputs": [
    {
     "data": {
      "text/html": [
       "<div>\n",
       "<style scoped>\n",
       "    .dataframe tbody tr th:only-of-type {\n",
       "        vertical-align: middle;\n",
       "    }\n",
       "\n",
       "    .dataframe tbody tr th {\n",
       "        vertical-align: top;\n",
       "    }\n",
       "\n",
       "    .dataframe thead th {\n",
       "        text-align: right;\n",
       "    }\n",
       "</style>\n",
       "<table border=\"1\" class=\"dataframe\">\n",
       "  <thead>\n",
       "    <tr style=\"text-align: right;\">\n",
       "      <th></th>\n",
       "      <th>user_id</th>\n",
       "      <th>movie_id</th>\n",
       "      <th>rating</th>\n",
       "      <th>unix_timestamp</th>\n",
       "    </tr>\n",
       "  </thead>\n",
       "  <tbody>\n",
       "    <tr>\n",
       "      <th>0</th>\n",
       "      <td>196</td>\n",
       "      <td>242</td>\n",
       "      <td>3</td>\n",
       "      <td>881250949</td>\n",
       "    </tr>\n",
       "    <tr>\n",
       "      <th>1</th>\n",
       "      <td>186</td>\n",
       "      <td>302</td>\n",
       "      <td>3</td>\n",
       "      <td>891717742</td>\n",
       "    </tr>\n",
       "    <tr>\n",
       "      <th>2</th>\n",
       "      <td>22</td>\n",
       "      <td>377</td>\n",
       "      <td>1</td>\n",
       "      <td>878887116</td>\n",
       "    </tr>\n",
       "    <tr>\n",
       "      <th>3</th>\n",
       "      <td>244</td>\n",
       "      <td>51</td>\n",
       "      <td>2</td>\n",
       "      <td>880606923</td>\n",
       "    </tr>\n",
       "    <tr>\n",
       "      <th>4</th>\n",
       "      <td>166</td>\n",
       "      <td>346</td>\n",
       "      <td>1</td>\n",
       "      <td>886397596</td>\n",
       "    </tr>\n",
       "  </tbody>\n",
       "</table>\n",
       "</div>"
      ],
      "text/plain": [
       "   user_id  movie_id  rating  unix_timestamp\n",
       "0      196       242       3       881250949\n",
       "1      186       302       3       891717742\n",
       "2       22       377       1       878887116\n",
       "3      244        51       2       880606923\n",
       "4      166       346       1       886397596"
      ]
     },
     "execution_count": 3,
     "metadata": {},
     "output_type": "execute_result"
    }
   ],
   "source": [
    "ratings.head()"
   ]
  },
  {
   "cell_type": "markdown",
   "metadata": {},
   "source": [
    "## Remove the undisired last column"
   ]
  },
  {
   "cell_type": "code",
   "execution_count": 111,
   "metadata": {},
   "outputs": [],
   "source": [
    "ratings = ratings.drop('unix_timestamp',axis=1)"
   ]
  },
  {
   "cell_type": "code",
   "execution_count": 112,
   "metadata": {},
   "outputs": [
    {
     "data": {
      "text/html": [
       "<div>\n",
       "<style scoped>\n",
       "    .dataframe tbody tr th:only-of-type {\n",
       "        vertical-align: middle;\n",
       "    }\n",
       "\n",
       "    .dataframe tbody tr th {\n",
       "        vertical-align: top;\n",
       "    }\n",
       "\n",
       "    .dataframe thead th {\n",
       "        text-align: right;\n",
       "    }\n",
       "</style>\n",
       "<table border=\"1\" class=\"dataframe\">\n",
       "  <thead>\n",
       "    <tr style=\"text-align: right;\">\n",
       "      <th></th>\n",
       "      <th>user_id</th>\n",
       "      <th>movie_id</th>\n",
       "      <th>rating</th>\n",
       "    </tr>\n",
       "  </thead>\n",
       "  <tbody>\n",
       "    <tr>\n",
       "      <th>0</th>\n",
       "      <td>196</td>\n",
       "      <td>242</td>\n",
       "      <td>3</td>\n",
       "    </tr>\n",
       "    <tr>\n",
       "      <th>1</th>\n",
       "      <td>186</td>\n",
       "      <td>302</td>\n",
       "      <td>3</td>\n",
       "    </tr>\n",
       "    <tr>\n",
       "      <th>2</th>\n",
       "      <td>22</td>\n",
       "      <td>377</td>\n",
       "      <td>1</td>\n",
       "    </tr>\n",
       "    <tr>\n",
       "      <th>3</th>\n",
       "      <td>244</td>\n",
       "      <td>51</td>\n",
       "      <td>2</td>\n",
       "    </tr>\n",
       "    <tr>\n",
       "      <th>4</th>\n",
       "      <td>166</td>\n",
       "      <td>346</td>\n",
       "      <td>1</td>\n",
       "    </tr>\n",
       "  </tbody>\n",
       "</table>\n",
       "</div>"
      ],
      "text/plain": [
       "   user_id  movie_id  rating\n",
       "0      196       242       3\n",
       "1      186       302       3\n",
       "2       22       377       1\n",
       "3      244        51       2\n",
       "4      166       346       1"
      ]
     },
     "execution_count": 112,
     "metadata": {},
     "output_type": "execute_result"
    }
   ],
   "source": [
    "ratings.head()"
   ]
  },
  {
   "cell_type": "markdown",
   "metadata": {},
   "source": [
    "# Data Exploration "
   ]
  },
  {
   "cell_type": "code",
   "execution_count": 27,
   "metadata": {},
   "outputs": [
    {
     "data": {
      "text/html": [
       "<div>\n",
       "<style scoped>\n",
       "    .dataframe tbody tr th:only-of-type {\n",
       "        vertical-align: middle;\n",
       "    }\n",
       "\n",
       "    .dataframe tbody tr th {\n",
       "        vertical-align: top;\n",
       "    }\n",
       "\n",
       "    .dataframe thead th {\n",
       "        text-align: right;\n",
       "    }\n",
       "</style>\n",
       "<table border=\"1\" class=\"dataframe\">\n",
       "  <thead>\n",
       "    <tr style=\"text-align: right;\">\n",
       "      <th></th>\n",
       "      <th>user_id</th>\n",
       "      <th>movie_id</th>\n",
       "      <th>rating</th>\n",
       "    </tr>\n",
       "  </thead>\n",
       "  <tbody>\n",
       "    <tr>\n",
       "      <th>count</th>\n",
       "      <td>100000.00000</td>\n",
       "      <td>100000.000000</td>\n",
       "      <td>100000.000000</td>\n",
       "    </tr>\n",
       "    <tr>\n",
       "      <th>mean</th>\n",
       "      <td>462.48475</td>\n",
       "      <td>425.530130</td>\n",
       "      <td>3.529860</td>\n",
       "    </tr>\n",
       "    <tr>\n",
       "      <th>std</th>\n",
       "      <td>266.61442</td>\n",
       "      <td>330.798356</td>\n",
       "      <td>1.125674</td>\n",
       "    </tr>\n",
       "    <tr>\n",
       "      <th>min</th>\n",
       "      <td>1.00000</td>\n",
       "      <td>1.000000</td>\n",
       "      <td>1.000000</td>\n",
       "    </tr>\n",
       "    <tr>\n",
       "      <th>25%</th>\n",
       "      <td>254.00000</td>\n",
       "      <td>175.000000</td>\n",
       "      <td>3.000000</td>\n",
       "    </tr>\n",
       "    <tr>\n",
       "      <th>50%</th>\n",
       "      <td>447.00000</td>\n",
       "      <td>322.000000</td>\n",
       "      <td>4.000000</td>\n",
       "    </tr>\n",
       "    <tr>\n",
       "      <th>75%</th>\n",
       "      <td>682.00000</td>\n",
       "      <td>631.000000</td>\n",
       "      <td>4.000000</td>\n",
       "    </tr>\n",
       "    <tr>\n",
       "      <th>max</th>\n",
       "      <td>943.00000</td>\n",
       "      <td>1682.000000</td>\n",
       "      <td>5.000000</td>\n",
       "    </tr>\n",
       "  </tbody>\n",
       "</table>\n",
       "</div>"
      ],
      "text/plain": [
       "            user_id       movie_id         rating\n",
       "count  100000.00000  100000.000000  100000.000000\n",
       "mean      462.48475     425.530130       3.529860\n",
       "std       266.61442     330.798356       1.125674\n",
       "min         1.00000       1.000000       1.000000\n",
       "25%       254.00000     175.000000       3.000000\n",
       "50%       447.00000     322.000000       4.000000\n",
       "75%       682.00000     631.000000       4.000000\n",
       "max       943.00000    1682.000000       5.000000"
      ]
     },
     "execution_count": 27,
     "metadata": {},
     "output_type": "execute_result"
    }
   ],
   "source": [
    "ratings.describe()"
   ]
  },
  {
   "cell_type": "code",
   "execution_count": 123,
   "metadata": {},
   "outputs": [
    {
     "name": "stdout",
     "output_type": "stream",
     "text": [
      "number of users :  943\n",
      "number of items :  1682\n"
     ]
    }
   ],
   "source": [
    "users_maxid = ratings.loc[ratings['user_id'].idxmax()]\n",
    "items_maxid = ratings.loc[ratings['movie_id'].idxmax()]\n",
    "nb_users = users_maxid[0] ; nb_items = items_maxid[1] \n",
    "print(\"number of users : \",nb_users)\n",
    "print(\"number of items : \",nb_items)"
   ]
  },
  {
   "cell_type": "markdown",
   "metadata": {},
   "source": [
    "## Distribution of number of ratings for each user"
   ]
  },
  {
   "cell_type": "code",
   "execution_count": 38,
   "metadata": {},
   "outputs": [
    {
     "data": {
      "text/plain": [
       "<matplotlib.axes._subplots.AxesSubplot at 0x13826e88748>"
      ]
     },
     "execution_count": 38,
     "metadata": {},
     "output_type": "execute_result"
    },
    {
     "data": {
      "image/png": "[encoded data removed]",
      "text/plain": [
       "<Figure size 432x288 with 1 Axes>"
      ]
     },
     "metadata": {},
     "output_type": "display_data"
    }
   ],
   "source": [
    "ratings['user_id'].value_counts().sort_index().head(30).plot.bar()"
   ]
  },
  {
   "cell_type": "code",
   "execution_count": 42,
   "metadata": {},
   "outputs": [
    {
     "data": {
      "text/plain": [
       "count    943.000000\n",
       "mean     106.044539\n",
       "std      100.931743\n",
       "min       20.000000\n",
       "25%       33.000000\n",
       "50%       65.000000\n",
       "75%      148.000000\n",
       "max      737.000000\n",
       "Name: user_id, dtype: float64"
      ]
     },
     "execution_count": 42,
     "metadata": {},
     "output_type": "execute_result"
    }
   ],
   "source": [
    "ratings['user_id'].value_counts().describe()"
   ]
  },
  {
   "cell_type": "markdown",
   "metadata": {},
   "source": [
    "## Discribution of number of ratings for each movie"
   ]
  },
  {
   "cell_type": "code",
   "execution_count": 40,
   "metadata": {},
   "outputs": [
    {
     "data": {
      "text/plain": [
       "<matplotlib.axes._subplots.AxesSubplot at 0x13826f52780>"
      ]
     },
     "execution_count": 40,
     "metadata": {},
     "output_type": "execute_result"
    },
    {
     "data": {
      "image/png": "[encoded data removed]",
      "text/plain": [
       "<Figure size 432x288 with 1 Axes>"
      ]
     },
     "metadata": {},
     "output_type": "display_data"
    }
   ],
   "source": [
    "ratings['movie_id'].value_counts().sort_index().head(30).plot.bar()"
   ]
  },
  {
   "cell_type": "code",
   "execution_count": 56,
   "metadata": {},
   "outputs": [
    {
     "data": {
      "text/plain": [
       "count    1682.000000\n",
       "mean       59.453032\n",
       "std        80.383846\n",
       "min         1.000000\n",
       "25%         6.000000\n",
       "50%        27.000000\n",
       "75%        80.000000\n",
       "max       583.000000\n",
       "Name: movie_id, dtype: float64"
      ]
     },
     "execution_count": 56,
     "metadata": {},
     "output_type": "execute_result"
    }
   ],
   "source": [
    "ratings['movie_id'].value_counts().describe()"
   ]
  },
  {
   "cell_type": "markdown",
   "metadata": {},
   "source": [
    "## Rating Histogram"
   ]
  },
  {
   "cell_type": "code",
   "execution_count": 44,
   "metadata": {},
   "outputs": [
    {
     "data": {
      "text/plain": [
       "<matplotlib.axes._subplots.AxesSubplot at 0x138270e6f28>"
      ]
     },
     "execution_count": 44,
     "metadata": {},
     "output_type": "execute_result"
    },
    {
     "data": {
      "image/png": "[encoded data removed]",
      "text/plain": [
       "<Figure size 432x288 with 1 Axes>"
      ]
     },
     "metadata": {},
     "output_type": "display_data"
    }
   ],
   "source": [
    "ratings['rating'].value_counts().sort_index().head(30).plot.bar()"
   ]
  },
  {
   "cell_type": "markdown",
   "metadata": {},
   "source": [
    "## Split the whole data set to training and val data"
   ]
  },
  {
   "cell_type": "code",
   "execution_count": 196,
   "metadata": {},
   "outputs": [],
   "source": [
    "## Doing this, we keep the same caracteristics of the initial rating matrix(one can plot the same figure to be sure ...)\n",
    "train=ratings.sample(frac=0.7,random_state=10)"
   ]
  },
  {
   "cell_type": "code",
   "execution_count": 197,
   "metadata": {},
   "outputs": [],
   "source": [
    "## Create the rating matrices\n",
    "train_matrix = train.pivot(index='user_id', columns='movie_id', values='rating')"
   ]
  },
  {
   "cell_type": "code",
   "execution_count": 198,
   "metadata": {},
   "outputs": [],
   "source": [
    "## Find the missing index ( When doing the split based on ratings some movies or users could may be disappear ... )\n",
    "idx = pd.Index(np.arange(1,1683,1))\n",
    "idx_to_add = idx.difference(train_matrix.columns)\n",
    "for i in idx_to_add:\n",
    "    train_matrix[i] = np.nan\n",
    "train_matrix = train_matrix.reindex(sorted(train_matrix.columns), axis=1)"
   ]
  },
  {
   "cell_type": "code",
   "execution_count": 205,
   "metadata": {},
   "outputs": [],
   "source": [
    "## Same procedure for the val data"
   ]
  },
  {
   "cell_type": "code",
   "execution_count": 200,
   "metadata": {},
   "outputs": [],
   "source": [
    "val=ratings.drop(train.index)"
   ]
  },
  {
   "cell_type": "code",
   "execution_count": 201,
   "metadata": {},
   "outputs": [],
   "source": [
    "val_matrix = val.pivot(index='user_id', columns='movie_id', values='rating')"
   ]
  },
  {
   "cell_type": "code",
   "execution_count": 203,
   "metadata": {},
   "outputs": [],
   "source": [
    "idx = pd.Index(np.arange(1,1683,1))\n",
    "idx_to_add = idx.difference(val_matrix.columns)\n",
    "for i in idx_to_add:\n",
    "    val_matrix[i] = np.nan\n",
    "val_matrix = val_matrix.reindex(sorted(train_matrix.columns), axis=1)"
   ]
  },
  {
   "cell_type": "code",
   "execution_count": 211,
   "metadata": {},
   "outputs": [],
   "source": [
    "## Boolean Matrices of missing values \n",
    "train_missing_entries = train_matrix.notnull()\n",
    "val_missing_entries = val_matrix.notnull()\n",
    "## Transform the matrices to numpy arrays\n",
    "train_rating_matrix = train_matrix.values\n",
    "val_rating_matrix = val_matrix.values"
   ]
  },
  {
   "cell_type": "markdown",
   "metadata": {},
   "source": [
    "## Create the rating matrix in COO Format"
   ]
  },
  {
   "cell_type": "code",
   "execution_count": 212,
   "metadata": {},
   "outputs": [],
   "source": [
    "ratings_matrix_COO = ratings.values"
   ]
  },
  {
   "cell_type": "markdown",
   "metadata": {},
   "source": [
    "## Create the Boolean mask tensorflow variable for the missing values"
   ]
  },
  {
   "cell_type": "code",
   "execution_count": 214,
   "metadata": {},
   "outputs": [],
   "source": [
    "training_tf_mask = tf.Variable(train_missing_entries.values)\n",
    "val_tf_mask = tf.Variable(val_missing_entries.values)"
   ]
  },
  {
   "cell_type": "code",
   "execution_count": 215,
   "metadata": {},
   "outputs": [],
   "source": [
    "mu = ratings_matrix_COO[:,2].mean()"
   ]
  },
  {
   "cell_type": "markdown",
   "metadata": {},
   "source": [
    "## Initialize the matrix factors to learn, from random normals with mean 0. U will represent users and I will represent items and determine the rank of number of factors to learn"
   ]
  },
  {
   "cell_type": "code",
   "execution_count": 216,
   "metadata": {},
   "outputs": [],
   "source": [
    "## Initialize the number of users and items and the rank of our latent factors\n",
    "num_users = nb_users;num_items = nb_items;rank = 5\n",
    "\n",
    "U = tf.Variable(tf.random_normal([num_users, rank], stddev=0.1, dtype=tf.float64), dtype=tf.float64,\n",
    "                name=\"users_Matrix\")\n",
    "I = tf.Variable(tf.random_normal([rank, num_items], stddev=0.1, dtype=tf.float64), dtype=tf.float64,\n",
    "                name=\"items_Matrix\")"
   ]
  },
  {
   "cell_type": "markdown",
   "metadata": {},
   "source": [
    "## Add the bias term (mean of user's ratings in U and mean of item's ratings in I)"
   ]
  },
  {
   "cell_type": "code",
   "execution_count": 217,
   "metadata": {},
   "outputs": [],
   "source": [
    "### Compute the user bias\n",
    "user_bias = np.zeros((num_users,1))\n",
    "k_user = np.zeros((num_users,1))\n",
    "for i in range(len(ratings_matrix_COO)):\n",
    "    current_user_id = ratings_matrix_COO[i,0]\n",
    "    user_bias[current_user_id-1,0] += ratings_matrix_COO[i,2]\n",
    "    k_user[current_user_id-1,0] += 1\n",
    "for i in range(len(user_bias)):\n",
    "    user_bias[i,0] = user_bias[i,0]/k_user[i,0]\n",
    "\n",
    "### Compute the item bias\n",
    "item_bias = np.zeros((num_items,1))\n",
    "k_item = np.zeros((num_items,1))\n",
    "for i in range(len(ratings_matrix_COO)):\n",
    "    current_item_id = ratings_matrix_COO[i,1]\n",
    "    item_bias[current_item_id-1,0] += ratings_matrix_COO[i,2]\n",
    "    k_item[current_item_id-1,0] += 1\n",
    "for i in range(len(item_bias)):\n",
    "    item_bias[i,0] = item_bias[i,0]/k_item[i,0]\n",
    "item_bias = np.transpose(item_bias)"
   ]
  },
  {
   "cell_type": "code",
   "execution_count": 218,
   "metadata": {},
   "outputs": [],
   "source": [
    "bias_U = tf.concat([U, tf.convert_to_tensor(user_bias, dtype=tf.float64, name=\"user_bias\"),\n",
    "                         tf.ones((num_users,1), dtype=tf.float64, name=\"eyes_row_items\")],axis=1)\n",
    "\n",
    "bias_I = tf.concat([I, tf.ones((1, num_items), name=\"eyes_column_item\", dtype=tf.float64),\n",
    "                         tf.convert_to_tensor(item_bias, dtype=tf.float64, name=\"item_bias\")],axis=0)\n",
    "\n",
    "# Multiply the factors to get our rating matrix\n",
    "R = tf.cast(tf.matmul(bias_U, bias_I), tf.float64)"
   ]
  },
  {
   "cell_type": "markdown",
   "metadata": {},
   "source": [
    "## Define the Error to minimize"
   ]
  },
  {
   "cell_type": "code",
   "execution_count": 220,
   "metadata": {},
   "outputs": [],
   "source": [
    "training_error = tf.subtract(tf.boolean_mask(tf.add(R,mu), training_tf_mask),\n",
    "                         tf.boolean_mask(train_rating_matrix, training_tf_mask),\n",
    "                         name=\"training_error\")\n",
    "val_error = tf.subtract(tf.boolean_mask(tf.add(R,mu), val_tf_mask),\n",
    "                          tf.boolean_mask(val_rating_matrix, val_tf_mask),\n",
    "                          name=\"validation_error\")"
   ]
  },
  {
   "cell_type": "markdown",
   "metadata": {},
   "source": [
    "## Define the different scopes "
   ]
  },
  {
   "cell_type": "code",
   "execution_count": 221,
   "metadata": {},
   "outputs": [],
   "source": [
    "## The threshold to compute the accuracy(pred_score - true_score < threshold => acc = 1)\n",
    "accuracy_threshold = 0.5\n",
    "\n",
    "## the regularizer term (Set empirically)\n",
    "landa = 4\n",
    "\n",
    "## Number of training and val Data (see the split above)\n",
    "n_training = len(train)\n",
    "n_val = len(val)\n",
    "\n",
    "with tf.name_scope(\"training_cost\") as scope:\n",
    "    \n",
    "    ## Frobenius norm\n",
    "    training_f_norm = tf.reduce_sum(tf.square(training_error), name=\"Frobenius_Norm\")\n",
    "    \n",
    "    ## Add regularizer term\n",
    "    regularizer = tf.multiply(tf.add(tf.reduce_sum(tf.square(bias_U)), tf.reduce_sum(tf.square(bias_I))),\n",
    "                              landa, name=\"regularizer_term\")\n",
    "    ## the cost is f_norm + reg term\n",
    "    training_cost = tf.add(training_f_norm, tf.cast(regularizer,tf.float64), name=\"training_cost\")/n_training\n",
    "\n",
    "with tf.name_scope(\"validation_cost\") as scope:\n",
    "    \n",
    "    val_cost = tf.reduce_sum(tf.square(val_error), name=\"valdiation_error\")/n_val\n",
    "\n",
    "with tf.name_scope(\"train\") as scope:\n",
    "    optimizer = tf.train.AdamOptimizer(0.1)\n",
    "    optimize = optimizer.minimize(training_cost)\n",
    "\n",
    "with tf.name_scope(\"training_accuracy\") as scope:\n",
    "    training_truth = tf.less(tf.abs(training_error), accuracy_threshold)\n",
    "    training_acc = tf.reduce_sum(tf.cast(training_truth, tf.float32))/n_training\n",
    "    training_accuracy_summary = tf.summary.scalar(\"training_accuracy\", training_acc)\n",
    "\n",
    "with tf.name_scope(\"validation_accuracy\") as scope:\n",
    "    val_truth = tf.less(tf.abs(val_error), accuracy_threshold)\n",
    "    val_acc = tf.reduce_sum(tf.cast(val_truth, tf.float32))/n_val\n",
    "    val_accuracy_summary = tf.summary.scalar(\"validation_accuracy\", val_acc)"
   ]
  },
  {
   "cell_type": "markdown",
   "metadata": {},
   "source": [
    "## Create a tensorflow session and run All"
   ]
  },
  {
   "cell_type": "code",
   "execution_count": 223,
   "metadata": {},
   "outputs": [
    {
     "name": "stdout",
     "output_type": "stream",
     "text": [
      "Training accuracy at step 0: 0.0\n",
      "Training cost: 52.49075793091747\n",
      "Validation accuracy at step 0: 0.0\n",
      "Validation cost: 50.65210828191615\n",
      "****************************************\n",
      "Training accuracy at step 200: 0.45594287\n",
      "Training cost: 3.512063284585756\n",
      "Validation accuracy at step 200: 0.41613334\n",
      "Validation cost: 1.0338996156420994\n",
      "****************************************\n",
      "Training accuracy at step 400: 0.47415715\n",
      "Training cost: 3.4709768964879624\n",
      "Validation accuracy at step 400: 0.4208\n",
      "Validation cost: 1.0479576808203614\n",
      "****************************************\n",
      "Training accuracy at step 600: 0.47732857\n",
      "Training cost: 3.4573274894138795\n",
      "Validation accuracy at step 600: 0.41796666\n",
      "Validation cost: 1.0468733025545103\n",
      "****************************************\n",
      "Training accuracy at step 800: 0.47678572\n",
      "Training cost: 3.4513269419370265\n",
      "Validation accuracy at step 800: 0.41726667\n",
      "Validation cost: 1.0454151317883986\n",
      "****************************************\n"
     ]
    }
   ],
   "source": [
    "# Create a TensorFlow session and initialize variables.\n",
    "with tf.Session() as sess:\n",
    "    sess.run(tf.global_variables_initializer())\n",
    "    # Make sure summaries get written to the logs.\n",
    "    summary_op = tf.summary.merge_all()\n",
    "    writer = tf.summary.FileWriter(\"matrix_factorization_logs\", sess.graph)\n",
    "    steps = 1000\n",
    "    for i in range(steps):\n",
    "        sess.run(optimize)\n",
    "        result = sess.run([summary_op, training_acc, training_cost, val_acc, val_cost])\n",
    "        writer.add_summary(result[0], i)\n",
    "        if i % 200== 0:\n",
    "            print(\"Training accuracy at step %s: %s\" % (i, result[1]))\n",
    "            print(\"Training cost: %s\" % (result[2]))\n",
    "            print(\"Validation accuracy at step %s: %s\" % (i, result[3]))\n",
    "            print(\"Validation cost: %s\" % (result[4]))  \n",
    "            print(\"*\"*40)\n",
    "    learnt_U = sess.run(U)\n",
    "    learnt_I = sess.run(I)\n",
    "    R_Final = sess.run(R)"
   ]
  },
  {
   "cell_type": "markdown",
   "metadata": {},
   "source": [
    "## Print the resulting matrix and te"
   ]
  },
  {
   "cell_type": "code",
   "execution_count": 238,
   "metadata": {},
   "outputs": [
    {
     "name": "stdout",
     "output_type": "stream",
     "text": [
      "5.0 3.8793803075455795\n",
      "3.0 3.0257768926930537\n",
      "3.0 3.9279349334698543\n",
      "3.0 2.945910797070669\n",
      "5.0 4.08516138207251\n",
      "1.0 3.4022229845647987\n",
      "3.0 3.317138496183163\n",
      "2.0 3.585789731583922\n",
      "5.0 4.981267892245202\n",
      "5.0 3.1673363151763487\n",
      "5.0 3.214005957315482\n",
      "3.0 3.12923730263628\n",
      "4.0 3.7344006042188473\n",
      "5.0 3.73795181269588\n"
     ]
    }
   ],
   "source": [
    "for i in range(20):\n",
    "    true_rate = train_rating_matrix[0,i]\n",
    "    pred_rate = R_Final[0,i] + mu\n",
    "    if not(np.isnan(true_rate)):\n",
    "        print(true_rate,pred_rate)"
   ]
  },
  {
   "cell_type": "code",
   "execution_count": null,
   "metadata": {
    "collapsed": true
   },
   "outputs": [],
   "source": []
  }
 ],
 "metadata": {
  "kernelspec": {
   "display_name": "Python 3",
   "language": "python",
   "name": "python3"
  },
  "language_info": {
   "codemirror_mode": {
    "name": "ipython",
    "version": 3
   },
   "file_extension": ".py",
   "mimetype": "text/x-python",
   "name": "python",
   "nbconvert_exporter": "python",
   "pygments_lexer": "ipython3",
   "version": "3.6.5"
  }
 },
 "nbformat": 4,
 "nbformat_minor": 2
}
